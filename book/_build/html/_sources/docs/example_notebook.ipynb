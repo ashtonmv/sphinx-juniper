{
 "cells": [
  {
   "source": [
    "# Example Notebook"
   ],
   "cell_type": "markdown",
   "metadata": {}
  },
  {
   "source": [
    "sphinx-juniper won't touch code embedded in Markdown.\n",
    "\n",
    "```\n",
    "# See what I mean?\n",
    "```\n",
    "\n",
    "But it will make the cells below runnable! First, initiate the Juniper connection in the rocket menu up top. Then try running these cells - either by clicking on the \"Run\" tab or by selecting the code and pressing Shift + Enter.\n",
    "\n",
    "---"
   ],
   "cell_type": "markdown",
   "metadata": {}
  },
  {
   "cell_type": "code",
   "execution_count": 1,
   "metadata": {},
   "outputs": [],
   "source": [
    "x = 2"
   ]
  },
  {
   "cell_type": "code",
   "execution_count": 2,
   "metadata": {
    "tags": []
   },
   "outputs": [
    {
     "output_type": "stream",
     "name": "stdout",
     "text": [
      "2\n"
     ]
    }
   ],
   "source": [
    "# cells are connected by default!\n",
    "print(x)"
   ]
  },
  {
   "source": [
    "This example is just running my dummy Binder image, where only python is installed (for the sake of loading speed). So importing anything bundled in native python is okay; for anything else you'll need to make your own Binder image."
   ],
   "cell_type": "markdown",
   "metadata": {}
  },
  {
   "cell_type": "code",
   "execution_count": null,
   "metadata": {},
   "outputs": [],
   "source": []
  }
 ],
 "metadata": {
  "kernelspec": {
   "name": "python3",
   "display_name": "Python 3"
  },
  "language_info": {
   "codemirror_mode": {
    "name": "ipython",
    "version": 3
   },
   "file_extension": ".py",
   "mimetype": "text/x-python",
   "name": "python",
   "nbconvert_exporter": "python",
   "pygments_lexer": "ipython3",
   "version": "3.8.3-final"
  }
 },
 "nbformat": 4,
 "nbformat_minor": 4
}